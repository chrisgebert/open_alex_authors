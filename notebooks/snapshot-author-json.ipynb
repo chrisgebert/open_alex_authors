{
 "cells": [
  {
   "cell_type": "code",
   "execution_count": 1,
   "metadata": {},
   "outputs": [],
   "source": [
    "import duckdb\n",
    "import pandas as pd\n",
    "from pandas_profiling import ProfileReport"
   ]
  },
  {
   "cell_type": "markdown",
   "metadata": {},
   "source": [
    "[openalex/data/authors/updated_date](https://openalex.s3.amazonaws.com/browse.html#data/authors/updated_date=2022-10-03/)"
   ]
  },
  {
   "cell_type": "code",
   "execution_count": 22,
   "metadata": {},
   "outputs": [],
   "source": [
    "con = duckdb.connect(database='openalex.duckdb', read_only=False)"
   ]
  },
  {
   "cell_type": "code",
   "execution_count": 3,
   "metadata": {},
   "outputs": [],
   "source": [
    "latest_author_file_1 = '/Users/m20/Downloads/part_000'\n",
    "latest_author_file_2 = '/Users/m20/Downloads/part_001'\n",
    "df_authors_1 = pd.read_json(\n",
    "    latest_author_file_1,\n",
    "    orient='records',\n",
    "    lines=True\n",
    "    )\n",
    "df_authors_2 = pd.read_json(\n",
    "    latest_author_file_2,\n",
    "    orient='records',\n",
    "    lines=True\n",
    "    )\n",
    "df_authors = pd.concat([df_authors_1, df_authors_2])"
   ]
  },
  {
   "cell_type": "code",
   "execution_count": 31,
   "metadata": {},
   "outputs": [],
   "source": [
    "sample = df_authors.head(n=20)"
   ]
  },
  {
   "cell_type": "code",
   "execution_count": 37,
   "metadata": {},
   "outputs": [
    {
     "data": {
      "text/plain": [
       "{'year': 2013, 'works_count': 0, 'cited_by_count': 1}"
      ]
     },
     "execution_count": 37,
     "metadata": {},
     "output_type": "execute_result"
    }
   ],
   "source": [
    "sample.at[0, 'counts_by_year'][0]"
   ]
  },
  {
   "cell_type": "code",
   "execution_count": 13,
   "metadata": {},
   "outputs": [],
   "source": [
    "df_authors.to_csv('/Users/m20/projects/open_alex_authors/snapshot_2022-10-04.csv')"
   ]
  },
  {
   "cell_type": "markdown",
   "metadata": {},
   "source": [
    "-- Name: openalex; Type: SCHEMA; Schema: -; Owner: -\n",
    "\n",
    "CREATE SCHEMA openalex;\n",
    "\n",
    "\n",
    "-- Name: authors; Type: TABLE; Schema: openalex; Owner: - \n",
    "\n",
    "CREATE TABLE openalex.authors (\n",
    "    id text NOT NULL,\n",
    "    orcid text,\n",
    "    display_name text,\n",
    "    display_name_alternatives json,\n",
    "    works_count bigint,\n",
    "    cited_by_count bigint,\n",
    "    most_cited_work text,\n",
    "    ids json,\n",
    "    last_known_institution text,\n",
    "    counts_by_year json,\n",
    "    x_concepts json,\n",
    "    works_api_url text,\n",
    "    updated_date timestamp without time zone,\n",
    "    created_date date\n",
    ");"
   ]
  },
  {
   "cell_type": "code",
   "execution_count": null,
   "metadata": {},
   "outputs": [],
   "source": [
    "df_authors[df_authors['orcid'] != 'None']"
   ]
  },
  {
   "cell_type": "code",
   "execution_count": 28,
   "metadata": {},
   "outputs": [
    {
     "data": {
      "text/plain": [
       "<duckdb.DuckDBPyConnection at 0x7ff56e5871f0>"
      ]
     },
     "execution_count": 28,
     "metadata": {},
     "output_type": "execute_result"
    }
   ],
   "source": [
    "#con.execute(\"CREATE SCHEMA openalex;\")\n",
    "#con.execute(\"CREATE TABLE openalex.authors (id text NOT NULL, orcid text, display_name text, works_count bigint, cited_by_count bigint, most_cited_work text, last_known_institution text, works_api_url text, updated_date timestamp without time zone, created_date date); \")\n",
    "#con.execute(\"ALTER TABLE openalex.authors ALTER works_count TYPE BIGINT\")\n",
    "#con.execute(\"ALTER TABLE openalex.authors ALTER cited_by_count TYPE BIGINT\")\n",
    "#con.execute(\"ALTER TABLE authors ALTER display_name_alternatives TYPE LIST\")\n",
    "#con.execute(\"ALTER TABLE openalex.authors DROP display_name_alternatives\")\n",
    "con.execute(\"ALTER TABLE openalex.authors DROP ids\")\n",
    "con.execute(\"ALTER TABLE openalex.authors DROP counts_by_year\")\n",
    "con.execute(\"ALTER TABLE openalex.authors DROP x_concepts\")"
   ]
  },
  {
   "cell_type": "code",
   "execution_count": 29,
   "metadata": {},
   "outputs": [
    {
     "data": {
      "text/plain": [
       "<duckdb.DuckDBPyConnection at 0x7ff56e5871f0>"
      ]
     },
     "execution_count": 29,
     "metadata": {},
     "output_type": "execute_result"
    }
   ],
   "source": [
    "con.execute(\"INSERT INTO openalex.authors SELECT id, orcid, display_name, works_count, cited_by_count, most_cited_work, last_known_institution, works_api_url, updated_date, created_date from df_authors\")"
   ]
  },
  {
   "cell_type": "code",
   "execution_count": 30,
   "metadata": {},
   "outputs": [],
   "source": [
    "con.close()"
   ]
  },
  {
   "cell_type": "code",
   "execution_count": 6,
   "metadata": {},
   "outputs": [],
   "source": [
    "profile = ProfileReport(df_authors, title=\"Profiling Report\")"
   ]
  },
  {
   "cell_type": "code",
   "execution_count": null,
   "metadata": {},
   "outputs": [],
   "source": [
    "df_authors.at[0, 'counts_by_year']"
   ]
  },
  {
   "cell_type": "code",
   "execution_count": null,
   "metadata": {},
   "outputs": [],
   "source": [
    "df_authors.groupby('cited_by_count').count()['id']"
   ]
  }
 ],
 "metadata": {
  "kernelspec": {
   "display_name": "Python 3.9.7 64-bit ('bigquery_project')",
   "language": "python",
   "name": "python3"
  },
  "language_info": {
   "codemirror_mode": {
    "name": "ipython",
    "version": 3
   },
   "file_extension": ".py",
   "mimetype": "text/x-python",
   "name": "python",
   "nbconvert_exporter": "python",
   "pygments_lexer": "ipython3",
   "version": "3.9.7"
  },
  "orig_nbformat": 4,
  "vscode": {
   "interpreter": {
    "hash": "7f02b49dbc1629cc91f066ac9ac6837d0371c9b878f74e363e3ff664297624fe"
   }
  }
 },
 "nbformat": 4,
 "nbformat_minor": 2
}
