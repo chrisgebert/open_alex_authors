{
 "cells": [
  {
   "cell_type": "code",
   "execution_count": 1,
   "metadata": {},
   "outputs": [],
   "source": [
    "import duckdb\n",
    "import pandas as pd\n",
    "from dotenv import load_dotenv"
   ]
  },
  {
   "cell_type": "code",
   "execution_count": 2,
   "metadata": {},
   "outputs": [
    {
     "data": {
      "text/plain": [
       "True"
      ]
     },
     "execution_count": 2,
     "metadata": {},
     "output_type": "execute_result"
    }
   ],
   "source": [
    "load_dotenv()"
   ]
  },
  {
   "cell_type": "markdown",
   "metadata": {},
   "source": [
    "#### Review a snapshot data file using `duckdb`"
   ]
  },
  {
   "cell_type": "code",
   "execution_count": 14,
   "metadata": {},
   "outputs": [],
   "source": [
    "duckdb.sql(\"install 'httpfs'; load 'httpfs'; set s3_region='us-east-1'; install json; load json;\")"
   ]
  },
  {
   "cell_type": "code",
   "execution_count": 3,
   "metadata": {},
   "outputs": [
    {
     "data": {
      "text/plain": [
       "┌──────────────┐\n",
       "│ count_star() │\n",
       "│    int64     │\n",
       "├──────────────┤\n",
       "│        40825 │\n",
       "└──────────────┘"
      ]
     },
     "execution_count": 3,
     "metadata": {},
     "output_type": "execute_result"
    }
   ],
   "source": [
    "duckdb.sql(\n",
    "\"\"\"\n",
    "    select\n",
    "        count(*)\n",
    "    from read_json_auto(\n",
    "        'https://openalex.s3.amazonaws.com/data/authors/updated_date%3D2023-07-21/part_000.gz',\n",
    "        format='newline_delimited',\n",
    "        compression='gzip'\n",
    "    )\n",
    "\"\"\"\n",
    ")"
   ]
  },
  {
   "cell_type": "code",
   "execution_count": 34,
   "metadata": {},
   "outputs": [
    {
     "data": {
      "text/plain": [
       "┌──────────────┬────────────────────┐\n",
       "│ count_star() │ count(DISTINCT id) │\n",
       "│    int64     │       int64        │\n",
       "├──────────────┼────────────────────┤\n",
       "│        28837 │              20865 │\n",
       "└──────────────┴────────────────────┘"
      ]
     },
     "execution_count": 34,
     "metadata": {},
     "output_type": "execute_result"
    }
   ],
   "source": [
    "duckdb.sql(\n",
    "    \"\"\"\n",
    "    with unnest_counts_by_year as (    \n",
    "        select\n",
    "           id,\n",
    "           unnest(counts_by_year, recursive := true)\n",
    "        from read_json(\n",
    "           'https://openalex.s3.amazonaws.com/data/authors/updated_date%3D2023-07-21/part_000.gz',\n",
    "           format='newline_delimited',\n",
    "           auto_detect = true,\n",
    "           compression='gzip')\n",
    "    )\n",
    "    \n",
    "    select count(*), count(distinct id) from unnest_counts_by_year;\n",
    "    \"\"\"\n",
    ")"
   ]
  },
  {
   "cell_type": "markdown",
   "metadata": {},
   "source": [
    "#### Explore a small sample of the records to explore the data model"
   ]
  },
  {
   "cell_type": "code",
   "execution_count": 35,
   "metadata": {},
   "outputs": [],
   "source": [
    "df = duckdb.sql(\n",
    "    \"\"\"\n",
    "        select\n",
    "            *\n",
    "        from read_json_auto(\n",
    "            'https://openalex.s3.amazonaws.com/data/authors/updated_date%3D2023-07-21/part_000.gz',\n",
    "            format='newline_delimited',\n",
    "            compression='gzip'\n",
    "        )\n",
    "        limit 100\n",
    "    \"\"\").df()"
   ]
  },
  {
   "cell_type": "code",
   "execution_count": 36,
   "metadata": {},
   "outputs": [
    {
     "data": {
      "text/plain": [
       "Index(['id', 'orcid', 'display_name', 'display_name_alternatives',\n",
       "       'works_count', 'cited_by_count', 'most_cited_work', 'summary_stats',\n",
       "       'ids', 'last_known_institution', 'counts_by_year', 'x_concepts',\n",
       "       'works_api_url', 'updated_date', 'created_date', 'updated'],\n",
       "      dtype='object')"
      ]
     },
     "execution_count": 36,
     "metadata": {},
     "output_type": "execute_result"
    }
   ],
   "source": [
    "df.columns"
   ]
  },
  {
   "cell_type": "code",
   "execution_count": null,
   "metadata": {},
   "outputs": [],
   "source": [
    "df"
   ]
  },
  {
   "cell_type": "code",
   "execution_count": 19,
   "metadata": {},
   "outputs": [
    {
     "data": {
      "text/plain": [
       "┌──────────────┐\n",
       "│ count_star() │\n",
       "│    int64     │\n",
       "├──────────────┤\n",
       "│     92840725 │\n",
       "└──────────────┘"
      ]
     },
     "execution_count": 19,
     "metadata": {},
     "output_type": "execute_result"
    }
   ],
   "source": [
    "duckdb.sql(\"\"\"\n",
    "    select\n",
    "        count(*)\n",
    "    from read_json_auto(\n",
    "        '/Users/m20/projects/open_alex_authors/data/authors/*/*.gz',\n",
    "        format='newline_delimited',\n",
    "        compression='gzip'\n",
    "    )\n",
    "\"\"\"\n",
    ")"
   ]
  },
  {
   "cell_type": "code",
   "execution_count": null,
   "metadata": {},
   "outputs": [],
   "source": [
    "!aws s3 ls --summarize --human-readable --no-sign-request --recursive \"s3://openalex/data/authors/\""
   ]
  },
  {
   "cell_type": "markdown",
   "metadata": {},
   "source": [
    "##### Filtering IDs of authors who have been cited (`where cited_by_count != 0`)"
   ]
  },
  {
   "cell_type": "code",
   "execution_count": null,
   "metadata": {},
   "outputs": [],
   "source": [
    "con = duckdb.connect('open_alex_authors.duckdb')\n",
    "con.sql(\"select id from open_alex_authors.september_2023_snapshot where cited_by_count != 0\")"
   ]
  },
  {
   "cell_type": "markdown",
   "metadata": {},
   "source": [
    "##### Unnesting author records by year"
   ]
  },
  {
   "cell_type": "code",
   "execution_count": null,
   "metadata": {},
   "outputs": [],
   "source": [
    "con.sql(\n",
    "    \"\"\"\n",
    "        select\n",
    "            id as author_id,\n",
    "            unnest(counts_by_year, recursive := true)\n",
    "        from open_alex_authors.september_2023_snapshot\n",
    "    \"\"\"\n",
    ")"
   ]
  },
  {
   "cell_type": "markdown",
   "metadata": {},
   "source": [
    "##### Getting the `display_name` from `last_known_institution`"
   ]
  },
  {
   "cell_type": "code",
   "execution_count": null,
   "metadata": {},
   "outputs": [],
   "source": [
    "con.sql(\"\"\"\n",
    "    select\n",
    "        id,\n",
    "        display_name,\n",
    "        json_extract(\n",
    "            last_known_institution, '$.display_name'\n",
    "        ), \n",
    "        works_count, \n",
    "        cited_by_count \n",
    "    from open_alex_authors.september_2023_snapshot\n",
    "    where cited_by_count > 10\n",
    "\"\"\")"
   ]
  },
  {
   "cell_type": "code",
   "execution_count": 12,
   "metadata": {},
   "outputs": [],
   "source": [
    "con.close()"
   ]
  },
  {
   "cell_type": "code",
   "execution_count": 41,
   "metadata": {},
   "outputs": [
    {
     "data": {
      "text/plain": [
       "┌────────────────────────────────────────┐\n",
       "│ (counts_by_year -> '$.cited_by_count') │\n",
       "│                  json                  │\n",
       "├────────────────────────────────────────┤\n",
       "│ NULL                                   │\n",
       "│ NULL                                   │\n",
       "│ NULL                                   │\n",
       "│ NULL                                   │\n",
       "│ NULL                                   │\n",
       "│ NULL                                   │\n",
       "│ NULL                                   │\n",
       "│ NULL                                   │\n",
       "│ NULL                                   │\n",
       "│ NULL                                   │\n",
       "│  ·                                     │\n",
       "│  ·                                     │\n",
       "│  ·                                     │\n",
       "│ NULL                                   │\n",
       "│ NULL                                   │\n",
       "│ NULL                                   │\n",
       "│ NULL                                   │\n",
       "│ NULL                                   │\n",
       "│ NULL                                   │\n",
       "│ NULL                                   │\n",
       "│ NULL                                   │\n",
       "│ NULL                                   │\n",
       "│ NULL                                   │\n",
       "├────────────────────────────────────────┤\n",
       "│     ? rows (>9999 rows, 20 shown)      │\n",
       "└────────────────────────────────────────┘"
      ]
     },
     "execution_count": 41,
     "metadata": {},
     "output_type": "execute_result"
    }
   ],
   "source": [
    "duckdb.sql(\"\"\"\n",
    "    with counts_by_year as (\n",
    "    select\n",
    "        counts_by_year\n",
    "    from read_json(\n",
    "        'https://openalex.s3.amazonaws.com/data/authors/updated_date%3D2023-07-21/part_000.gz',\n",
    "        columns = {\n",
    "           id: 'VARCHAR',\n",
    "           orcid: 'VARCHAR',\n",
    "           display_name: 'VARCHAR',\n",
    "           works_count: 'INT64',\n",
    "           cited_by_count: 'INT64',\n",
    "           most_cited_work: 'VARCHAR',\n",
    "           counts_by_year: 'JSON',\n",
    "           x_concepts: 'JSON',\n",
    "           works_api_url: 'VARCHAR',\n",
    "           updated_date: 'DATE',\n",
    "           created_date: 'DATE',\n",
    "           updated: 'DATE'\n",
    "        },\n",
    "        format='newline_delimited',\n",
    "        compression='gzip'\n",
    "        )\n",
    "    )\n",
    "           \n",
    "    select\n",
    "        counts_by_year -> '$.cited_by_count'\n",
    "    from counts_by_year   \n",
    "    \"\"\"\n",
    ")"
   ]
  },
  {
   "cell_type": "code",
   "execution_count": 42,
   "metadata": {},
   "outputs": [
    {
     "data": {
      "text/plain": [
       "┌──────────────────────┬──────────────────────┬───┬──────────────┬──────────────┬──────────────────────┐\n",
       "│          id          │       wikidata       │ … │ updated_date │ created_date │       updated        │\n",
       "│       varchar        │       varchar        │   │     date     │     date     │       varchar        │\n",
       "├──────────────────────┼──────────────────────┼───┼──────────────┼──────────────┼──────────────────────┤\n",
       "│ https://openalex.o…  │ https://www.wikida…  │ … │ 2023-06-07   │ 2016-06-24   │ 2023-06-07           │\n",
       "│ https://openalex.o…  │ https://www.wikida…  │ … │ 2023-06-07   │ 2016-06-24   │ 2023-06-07           │\n",
       "│ https://openalex.o…  │ https://www.wikida…  │ … │ 2023-06-07   │ 2016-06-24   │ 2023-06-07           │\n",
       "│ https://openalex.o…  │ https://www.wikida…  │ … │ 2023-06-07   │ 2016-06-24   │ 2023-06-07           │\n",
       "│ https://openalex.o…  │ https://www.wikida…  │ … │ 2023-06-07   │ 2016-06-24   │ 2023-06-07           │\n",
       "│ https://openalex.o…  │ https://www.wikida…  │ … │ 2023-06-07   │ 2016-06-24   │ 2023-06-07           │\n",
       "│ https://openalex.o…  │ https://www.wikida…  │ … │ 2023-06-07   │ 2016-06-24   │ 2023-06-07           │\n",
       "│ https://openalex.o…  │ https://www.wikida…  │ … │ 2023-06-07   │ 2016-06-24   │ 2023-06-07           │\n",
       "│ https://openalex.o…  │ https://www.wikida…  │ … │ 2023-06-07   │ 2018-01-05   │ 2023-06-07           │\n",
       "│ https://openalex.o…  │ https://www.wikida…  │ … │ 2023-06-07   │ 2018-01-05   │ 2023-06-07           │\n",
       "│          ·           │          ·           │ · │     ·        │     ·        │     ·                │\n",
       "│          ·           │          ·           │ · │     ·        │     ·        │     ·                │\n",
       "│          ·           │          ·           │ · │     ·        │     ·        │     ·                │\n",
       "│ https://openalex.o…  │ https://www.wikida…  │ … │ 2023-12-18   │ 2016-06-24   │ 2023-12-18T13:13:3…  │\n",
       "│ https://openalex.o…  │ https://www.wikida…  │ … │ 2023-12-18   │ 2018-01-05   │ 2023-12-18T12:39:1…  │\n",
       "│ https://openalex.o…  │ https://www.wikida…  │ … │ 2023-12-18   │ 2016-06-24   │ 2023-12-18T12:25:5…  │\n",
       "│ https://openalex.o…  │ https://www.wikida…  │ … │ 2023-12-18   │ 2016-06-24   │ 2023-12-18T12:55:1…  │\n",
       "│ https://openalex.o…  │ https://www.wikida…  │ … │ 2023-12-18   │ 2018-01-05   │ 2023-12-18T13:07:2…  │\n",
       "│ https://openalex.o…  │ https://www.wikida…  │ … │ 2023-12-18   │ 2016-06-24   │ 2023-12-18T13:12:1…  │\n",
       "│ https://openalex.o…  │ https://www.wikida…  │ … │ 2023-12-18   │ 2016-06-24   │ 2023-12-18T12:23:1…  │\n",
       "│ https://openalex.o…  │ https://www.wikida…  │ … │ 2023-12-18   │ 2016-06-24   │ 2023-12-18T12:19:2…  │\n",
       "│ https://openalex.o…  │ https://www.wikida…  │ … │ 2023-12-18   │ 2016-06-24   │ 2023-12-18T13:00:0…  │\n",
       "│ https://openalex.o…  │ https://www.wikida…  │ … │ 2023-12-18   │ 2016-06-24   │ 2023-12-18T12:55:0…  │\n",
       "├──────────────────────┴──────────────────────┴───┴──────────────┴──────────────┴──────────────────────┤\n",
       "│ ? rows (>9999 rows, 20 shown)                                                   19 columns (5 shown) │\n",
       "└──────────────────────────────────────────────────────────────────────────────────────────────────────┘"
      ]
     },
     "execution_count": 42,
     "metadata": {},
     "output_type": "execute_result"
    }
   ],
   "source": [
    "duckdb.sql(\n",
    "    \"\"\"\n",
    "    create table concepts as \n",
    "    select\n",
    "        *\n",
    "    from read_json_auto('s3://openalex/data/concepts/*/*.gz',\n",
    "    compression = 'gzip',\n",
    "    format = 'newline_delimited')\n",
    "    \"\"\"\n",
    ")"
   ]
  },
  {
   "cell_type": "code",
   "execution_count": 48,
   "metadata": {},
   "outputs": [
    {
     "ename": "",
     "evalue": "",
     "output_type": "error",
     "traceback": [
      "\u001b[1;31mCannot execute code, session has been disposed. Please try restarting the Kernel."
     ]
    },
    {
     "ename": "",
     "evalue": "",
     "output_type": "error",
     "traceback": [
      "\u001b[1;31mThe Kernel crashed while executing code in the the current cell or a previous cell. Please review the code in the cell(s) to identify a possible cause of the failure. Click <a href='https://aka.ms/vscodeJupyterKernelCrash'>here</a> for more info. View Jupyter <a href='command:jupyter.viewOutput'>log</a> for further details."
     ]
    }
   ],
   "source": [
    "df = duckdb.sql(\n",
    "    \"\"\"\n",
    "    select\n",
    "        *\n",
    "    from read_json_auto('./data/authors/updated_date=2023-08-*/*.gz',\n",
    "    format = 'newline_delimited',\n",
    "    compression = 'gzip'\n",
    "    );\n",
    "    \"\"\"\n",
    ").df()"
   ]
  }
 ],
 "metadata": {
  "kernelspec": {
   "display_name": "open_alex_authors",
   "language": "python",
   "name": "python3"
  },
  "language_info": {
   "codemirror_mode": {
    "name": "ipython",
    "version": 3
   },
   "file_extension": ".py",
   "mimetype": "text/x-python",
   "name": "python",
   "nbconvert_exporter": "python",
   "pygments_lexer": "ipython3",
   "version": "3.11.2"
  },
  "orig_nbformat": 4
 },
 "nbformat": 4,
 "nbformat_minor": 2
}
